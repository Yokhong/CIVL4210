{
  "cells": [
    {
      "cell_type": "markdown",
      "metadata": {
        "id": "56FLRP57ylUi"
      },
      "source": [
        "# Introduction\n",
        "\n",
        "\n",
        "The objective is to create a **linear regression model** for a given dataset( House Sales in King County, USA). The overall idea of regression is to examine two things: (1) does a set of predictor variables do a good job in predicting an outcome (dependent) variable?  (2) Which variables in particular are significant predictors of the outcome variable, and in what way do they–indicated by the magnitude and sign of the beta estimates–impact the outcome variable?  These regression estimates are used to explain the relationship between one dependent variable and one or more independent variables.\n",
        "\n",
        "**Linear Regression Analysis** consists of more than just fitting a linear line through a cloud of data points.  It consists of 3 stages – (1) analyzing the correlation and directionality of the data, (2) estimating the model, i.e., fitting the line, and (3) evaluating the validity and usefulness of the model.\n",
        "\n",
        "## Regressions Performed\n",
        "\n",
        "\n",
        "**Simple Linear Regression:** <br>\n",
        "<br>\n",
        "1) 'bedrooms' vs 'price'<br>\n",
        "2) 'grade' vs 'price'<br>\n",
        "                         \n",
        "**Multiple Regression:** <br><br>\n",
        "1) 'bedrooms','grade', 'sqft_living', 'sqft_above'<br>\n",
        "2) 'bedrooms','bathrooms', 'sqft_living', 'sqft_lot', 'floors', 'waterfront', 'view', 'grade',                                     'sqft_above', 'sqft_basement', 'lat', 'sqft_living15'\n",
        "\n",
        "**Polynomial Regression:**<br>\n",
        "<br> 1) degree=2<br>\n",
        "2) degree=3\n"
      ]
    },
    {
      "cell_type": "markdown",
      "metadata": {
        "id": "5SJRI1OJylUk"
      },
      "source": [
        "# Data\n",
        "\n",
        "## Description\n",
        "\n",
        "In this dataset we have to predict the **sales price of houses in King County, Seattle**. It includes homes sold between May 2014 and May 2015. Before doing anything we should first know about the dataset what it contains what are its features and what is the structure of data.\n",
        "\n",
        "The dataset cantains 20 house features plus the price, along with 21613 observations.\n",
        "\n",
        "The description for the 20 features is given below:\n",
        "\n",
        "1. id :- It is the unique numeric number assigned to each house being sold.\n",
        "2. date :- It is the date on which the house was sold out.\n",
        "3. price:- It is the price of house which we have to predict so this is our target variable and aprat from it are our features.\n",
        "4. bedrooms :- It determines number of bedrooms in a house.\n",
        "5. bathrooms :- It determines number of bathrooms in a bedroom of a house.\n",
        "6. sqft_living :- It is the measurement variable which determines the measurement of house in square foot.\n",
        "7. sqft_lot : It is also the measurement variable which determines square foot of the lot.\n",
        "8. floors: It determines total floors means levels of house.\n",
        "9. waterfront : This feature determines whether a house has a view to waterfront 0 means no 1 means yes.\n",
        "10. view : This feature determines whether a house has been viewed or not 0 means no 1 means yes.\n",
        "11. condition : It determines the overall condition of a house on a scale of 1 to 5.\n",
        "12. grade : It determines the overall grade given to the housing unit, based on King County grading system on a scale of 1 to 11\n",
        "13. sqft_above : It determines square footage of house apart from basement.\n",
        "14. sqft_basement : It determines square footage of the basement of the house.\n",
        "15. yr_built : It detrmines the date of building of the house.\n",
        "16. yr_renovated : It detrmines year of renovation of house.\n",
        "17. zipcode : It determines the zipcode of the location of the house.\n",
        "18. lat : It determines the latitude of the location of the house.\n",
        "19. long : It determines the longitude of the location of the house.\n",
        "20. sqft_living15 : Living room area in 2015(implies-- some renovations)\n",
        "21. sqft_lot15 : lotSize area in 2015(implies-- some renovations)\n",
        "\n",
        "By observing the data, we can know that the **price is dependent on various features** like bedrooms(which is most dependent feature), bathrooms, sqft_living(second most important feature), sqft_lot, floors etc. The price is also dependent on the location of the house where it is present. The other features like waterfront, view are less dependent on the price. Of all the records, there are **no missing values, which helps us creating better model.**\n",
        "\n",
        "First, we **import** the required libraries like pandas, numpy, seaborn, matplotlib. Now import the **csv file.** Now we should get to know how the data is, what datatype using info function. We observe that date is in 'object' format. To know the no of rows and columns we use shape function. Describe the dataframe to know the mean, minumum, ,maximum, standard deviation, percentiles.\n",
        "\n",
        "Then plot graphs for visualization and then we do simple regression using 'bedrooms', multiple regression and polynomial regression.\n"
      ]
    },
    {
      "cell_type": "markdown",
      "metadata": {
        "id": "jeXm4TcWrToB"
      },
      "source": [
        "## Import and initialization"
      ]
    },
    {
      "cell_type": "code",
      "execution_count": null,
      "metadata": {
        "_cell_guid": "79c7e3d0-c299-4dcb-8224-4455121ee9b0",
        "_uuid": "d629ff2d2480ee46fbb7e2d37f6b5fab8052498a",
        "id": "66mrBCvEylUl"
      },
      "outputs": [],
      "source": [
        "# importing numpy and pandas, seaborn\n",
        "\n",
        "import numpy as np\n",
        "# Numpy provides functionality for performing mathematical operations on arrays and matrices.\n",
        "# linear algebra\n",
        "\n",
        "import pandas as pd\n",
        "# The pandas provides data structures for efficiently storing and manipulating large datasets, as well as a wide range of functions for data cleaning, preparation, and analysis.\n",
        "# datapreprocessing, CSV file I/O\n",
        "\n",
        "import seaborn as sns\n",
        "# The seaborn provides a high-level interface for creating informative and attractive statistical graphics.\n",
        "# for plotting graphs\n",
        "\n",
        "import matplotlib.pyplot as plt\n",
        "# Matplotlib.pyplot is a collection of functions that provides a MATLAB-like plotting framework in Python.\n"
      ]
    },
    {
      "cell_type": "markdown",
      "metadata": {
        "id": "ixe6tbzI3Saw"
      },
      "source": [
        "Now import the data stored in the csv file."
      ]
    },
    {
      "cell_type": "code",
      "execution_count": null,
      "metadata": {
        "id": "5xUhvJ4rylUl"
      },
      "outputs": [],
      "source": [
        "# The first method to read the scv file from Github.\n",
        "\n",
        "csvData = 'https://raw.githubusercontent.com/Yokhong/CIVL4210/main/H3_housing_price_regression/kc_house_data.csv'\n",
        "# We save the hyperlink of the data form Github.\n",
        "\n",
        "df = pd.read_csv(csvData)\n",
        "# And we directly copy the scv file from Github to random access memory (RAM)."
      ]
    },
    {
      "cell_type": "markdown",
      "metadata": {
        "id": "F0Z0FXJ4o-yg"
      },
      "source": [
        "Try to use another method by yourself!😊"
      ]
    },
    {
      "cell_type": "code",
      "execution_count": null,
      "metadata": {
        "id": "0Lrm4c3uV4xr"
      },
      "outputs": [],
      "source": [
        "# The second method to read the scv file from Github.😊\n",
        "\n",
        "#import urllib.request as req\n",
        "# The urllib.request provides a set of functions for opening URLs (Uniform Resource Locators) and retrieving their contents.\n",
        "\n",
        "#url = 'https://raw.githubusercontent.com/Yokhong/CIVL4210/main/H3_housing_price_regression/kc_house_data.csv'\n",
        "# We save the hyperlink of the data form Github.\n",
        "\n",
        "#req.urlretrieve(url, \"/content/kc_house_data.csv\")\n",
        "#The urllib.request.urlretrieve is used to download a file from a URL and save it to a local directory.\n",
        "\n",
        "#file=\"kc_house_data.csv\" # relative address (computing)\n",
        "# Now, we can  see the scv file in the folder.\n",
        "\n",
        "#df = pd.read_csv(\"kc_house_data.csv\")\n",
        "# And we copy the scv file from Colab's folder to random access memory (RAM)."
      ]
    },
    {
      "cell_type": "markdown",
      "metadata": {
        "id": "GUKBfN1wrjJg"
      },
      "source": [
        "## Check the data"
      ]
    },
    {
      "cell_type": "markdown",
      "metadata": {
        "id": "mn_Ixz6Z3aj5"
      },
      "source": [
        "Now we should get to know how the data is, what datatype using info function. We observe that date is in 'object' format. To know the no of rows and columns we use shape function. Describe the dataframe to know the mean, minumum, maximum, standard deviation, percentiles.\n",
        "\n",
        "Then plot graphs for visualization and then we do simple regression using 'bedrooms', multiple regression and polynomial regression."
      ]
    },
    {
      "cell_type": "code",
      "execution_count": null,
      "metadata": {
        "id": "3qiePq8uylUm"
      },
      "outputs": [],
      "source": [
        "df.info()\n",
        "# df.info() is used to print a concise summary of a DataFrame.\n",
        "# This method is useful for quickly examining the structure and contents of a DataFrame, including missing values and data types.\n",
        "# It can also be used to identify potential memory usage issues, as it shows the memory usage of the DataFrame.\n",
        "# When called on a DataFrame object df, df.info() outputs the following information:\n",
        "#  The number of rows and columns in the DataFrame\n",
        "#  The column names and their data types\n",
        "#  The number of non-null values in each column\n",
        "#  The memory usage of the DataFrame"
      ]
    },
    {
      "cell_type": "code",
      "execution_count": null,
      "metadata": {
        "id": "2FR1lmqpylUn"
      },
      "outputs": [],
      "source": [
        "df.head()\n",
        "#df.head(16) # Try to change the number and find the difference with the default.😊\n",
        "# The df.head() is used to display the first few rows of a DataFrame.\n",
        "# df.head() outputs the first 5 rows of the DataFrame by default."
      ]
    },
    {
      "cell_type": "code",
      "execution_count": null,
      "metadata": {
        "id": "XYrnDlKKylUo"
      },
      "outputs": [],
      "source": [
        "#finding no of rows and columns\n",
        "\n",
        "df.shape\n",
        "# The df.shape returns a tuple representing the dimensions of a DataFrame."
      ]
    },
    {
      "cell_type": "code",
      "execution_count": null,
      "metadata": {
        "id": "8H12_c4yylUo"
      },
      "outputs": [],
      "source": [
        "df.isnull().sum()\n",
        "# The df.isnull().sum() is used to count the number of missing values (null values) in each column of a DataFrame."
      ]
    },
    {
      "cell_type": "code",
      "execution_count": null,
      "metadata": {
        "id": "sTqQVKJIylUo"
      },
      "outputs": [],
      "source": [
        "df['bedrooms'].value_counts()\n",
        "# The df[].value_counts() is used to count the number of occurrences of each unique value in a column of a DataFrame.\n",
        "# This method is useful for understanding the distribution of values in a column and for identifying the most common values."
      ]
    },
    {
      "cell_type": "markdown",
      "metadata": {
        "id": "JXZTYzhrqt0-"
      },
      "source": [
        "Try to use other labels and find out what happens.😊\n",
        "\n",
        "<font size = \"6\">Question 1 (1 point): count the number of occurrences of each unique value in \"condition\"</font>"
      ]
    },
    {
      "cell_type": "markdown",
      "metadata": {
        "id": "GHQTzWsLrzm2"
      },
      "source": [
        "# Statistics and graphing"
      ]
    },
    {
      "cell_type": "code",
      "execution_count": null,
      "metadata": {
        "id": "WKTSWq7ZylUq"
      },
      "outputs": [],
      "source": [
        "fig,axes=plt.subplots(nrows=1,ncols=1,figsize=(15,10))\n",
        "# The plt.subplots() is used to create a new figure and one or more subplots.\n",
        "# fig is a variable that represents the entire figure, and axes is a variable that represents the subplot(s).\n",
        "# The subplots() method takes three arguments:\n",
        "# nrows: the number of rows of subplots to create (default is 1)\n",
        "# ncols: the number of columns of subplots to create (default is 1)\n",
        "# figsize: a tuple specifying the width and height of the figure in inches (default is (6.4, 4.8))\n",
        "\n",
        "plt.title('house prices by sqft_living')\n",
        "plt.xlabel('sqft_living')\n",
        "plt.ylabel('house prices')\n",
        "plt.legend()\n",
        "# The plt.legend() is used to add a legend to a plot.\n",
        "sns.barplot(x='sqft_living',y='price',data=df)\n",
        "# The sns.barplot() is used to create a bar plot.\n",
        "# data: the DataFrame containing the data to be plotted"
      ]
    },
    {
      "cell_type": "code",
      "execution_count": null,
      "metadata": {
        "id": "nvirQuLZylUq"
      },
      "outputs": [],
      "source": [
        "plt.hist('sqft_living',data=df,bins=5) # Try to use other labels and find out what happens.😊\n",
        "# The plt.hist() is used to create a histogram.\n",
        "# bins: the number of bins to use in the histogram (default is 10)"
      ]
    },
    {
      "cell_type": "code",
      "execution_count": null,
      "metadata": {
        "id": "Vwo0Sr8IylUq"
      },
      "outputs": [],
      "source": [
        "fig,axes=plt.subplots(nrows=1,ncols=1,figsize=(15,10))\n",
        "sns.distplot(df['sqft_living'],hist=True,kde=True,rug=False,label='sqft_living',norm_hist=True)\n",
        "# The sns.distplot() is used to create a distribution plot.\n",
        "# hist: a boolean value indicating whether to show a histogram of the data (default is True)\n",
        "# kde: a boolean value indicating whether to show a kernel density estimate of the data (default is True)\n",
        "# rug: a boolean value indicating whether to show a rug plot of the data (default is False)\n",
        "# norm_hist: a boolean value indicating whether to normalize the histogram to a density plot (default is True)"
      ]
    },
    {
      "cell_type": "code",
      "execution_count": null,
      "metadata": {
        "id": "Rj0S_uzZylUq"
      },
      "outputs": [],
      "source": [
        "print('Mean',round(df['sqft_living'].mean(),2))\n",
        "# Printing the mean (average) value of the 'sqft_living' column\n",
        "# The value is rounded to two decimal places using the round() function.\n",
        "print('Median',df['sqft_living'].median())\n",
        "# Printing the median value of the 'sqft_living' column\n",
        "print('Mode',df['sqft_living'].mode()[0])\n",
        "# The mode() function is used to calculate the mode value of the dataset.\n",
        "# The [0] at the end of the line of code is used to select the first mode value from the list of mode values (if there are multiple mode values)."
      ]
    },
    {
      "cell_type": "code",
      "execution_count": null,
      "metadata": {
        "id": "AILQOvU3ylUr"
      },
      "outputs": [],
      "source": [
        "len(df[df['sqft_living']==1300])\n",
        "# Counting the number of instances where a specific value appears in a particular column of a DataFrame.\n",
        "# Mode 1300"
      ]
    },
    {
      "cell_type": "markdown",
      "metadata": {
        "id": "1u_dmHDY5v9p"
      },
      "source": [
        "<font size = \"6\">Question 2 (1 point): please draw a bar plot of 'house prices by sqft_above' and a density plot of 'sqft_above'</font>"
      ]
    },
    {
      "cell_type": "markdown",
      "metadata": {
        "id": "5jOuuAgn-qPc"
      },
      "source": [
        "<font size = \"6\">House Price Correlation Heatmap</font>"
      ]
    },
    {
      "cell_type": "markdown",
      "metadata": {
        "id": "Vj_5WcoG-MHN"
      },
      "source": [
        "A house price correlation heatmap shows the relationships between different factors that can affect house prices, such as location, size, number of bedrooms, or amenities. It uses colors to indicate the strength and direction of these relationships: for example, dark colors might show a strong positive correlation, while lighter colors indicate weak or no correlation. This helps identify which factors are most related to house prices."
      ]
    },
    {
      "cell_type": "markdown",
      "metadata": {
        "id": "vy29yx05-V3a"
      },
      "source": [
        "1. Variables Analyzed:\n",
        "\n",
        "  Common variables include square footage, number of bedrooms, bathrooms, age of the home, location, and features like pools or garages.\n",
        "\n",
        "2. Correlation Coefficient:\n",
        "\n",
        "  The heatmap uses a correlation coefficient (usually between -1 and 1) to show relationships:\n",
        "\n",
        "    1 means a perfect positive correlation (as one increases, the other does too).\n",
        "\n",
        "    -1 means a perfect negative correlation (as one increases, the other decreases).\n",
        "\n",
        "    0 means no correlation.\n",
        "\n",
        "3. Color Coding:\n",
        "\n",
        "  Different colors represent different levels of correlation. For example:\n",
        "\n",
        "    Darker colors may indicate stronger correlations.\n",
        "\n",
        "    Lighter colors may indicate weaker correlations.\n",
        "\n"
      ]
    },
    {
      "cell_type": "markdown",
      "metadata": {
        "id": "5Iem95UN-7oG"
      },
      "source": [
        "It helps real estate professionals and buyers understand which features most influence house prices. Buyers can use this information to make informed decisions about what features to prioritize.\n",
        "Sellers can understand what aspects of their home might increase its value.\n",
        "\n",
        "For example, if the heatmap shows a strong correlation between square footage and price, it suggests larger homes tend to sell for more.\n"
      ]
    },
    {
      "cell_type": "code",
      "execution_count": null,
      "metadata": {
        "id": "TFAapsqBylUr"
      },
      "outputs": [],
      "source": [
        "def correlation_heatmap(df1):\n",
        "# Just define a function\n",
        "    _,ax=plt.subplots(figsize=(15,10))\n",
        "# The subplots() function returns two values: a Figure object and an Axes object. In this code, the Figure object is not needed, so it is assigned to the underscore symbol (_).\n",
        "    colormap=sns.diverging_palette(220,10,as_cmap=True)\n",
        "# The diverging_palette() function creates a color palette that varies smoothly between two specified colors.\n",
        "# The two colors are specified using the numbers 220 and 10, which correspond to hues on a color wheel.\n",
        "# The as_cmap parameter is set to True, which means that the resulting color palette will be returned as a matplotlib colormap object.\n",
        "    sns.heatmap(df.corr(numeric_only=True),annot=True,cmap=colormap)\n",
        "    #sns.heatmap(df.select_dtypes(np.number),annot=True,cmap=colormap)\n",
        "\n",
        "# Creating a heatmap plot using the Seaborn library.\n",
        "# The corr() function returns a matrix of pairwise correlations between columns of the DataFrame.\n",
        "# The 'annot' parameter is set to True, which means that the numeric values of the correlation coefficients will be displayed on the heatmap.\n",
        "\n",
        "correlation_heatmap(df)\n",
        "# Using this function"
      ]
    },
    {
      "cell_type": "markdown",
      "metadata": {
        "id": "xpAMP02GylUr"
      },
      "source": [
        "# Simple Linear Regression"
      ]
    },
    {
      "cell_type": "code",
      "execution_count": null,
      "metadata": {
        "id": "g56LmElbylUr"
      },
      "outputs": [],
      "source": [
        "from sklearn.model_selection import train_test_split\n",
        "# The train_test_split function is a commonly used function in machine learning that is used to split a dataset into two subsets: a training set and a testing set.\n",
        "\n",
        "from sklearn import linear_model\n",
        "# The linear_model module contains a variety of linear regression models that can be used for predictive modeling in machine learning.\n",
        "\n",
        "from sklearn.neighbors import KNeighborsRegressor\n",
        "# The KNeighborsRegressor model works by finding the k nearest neighbors to a given input in the training data, and then making a prediction based on the average value of the target variable for those neighbors.\n",
        "\n",
        "from sklearn.preprocessing import PolynomialFeatures\n",
        "# The PolynomialFeatures class is a data preprocessing tool that can be used to create polynomial features from a set of input features.\n",
        "# Polynomial features are additional features that are created by raising the original features to a power, and then multiplying them together.\n",
        "# Creating polynomial features can be useful for improving the performance of machine learning models that assume a linear relationship between the input features and the target variable.\n",
        "# By including polynomial features, the model can capture more complex relationships between the input features and the target variable.\n",
        "\n",
        "from sklearn import metrics\n",
        "# These functions can be used to compare the predicted values of a model with the actual values, and to calculate various metrics that indicate how well the model is performing.\n",
        "# Some common metrics that are included in the metrics module include mean squared error (MSE), mean absolute error (MAE), R-squared (R2), and confusion matrix.\n",
        "\n",
        "from mpl_toolkits.mplot3d import Axes3D\n",
        "%matplotlib inline\n",
        "# This line enables the rendering of Matplotlib plots directly in the notebook interface."
      ]
    },
    {
      "cell_type": "code",
      "execution_count": null,
      "metadata": {
        "id": "r9p4IuiuylUr"
      },
      "outputs": [],
      "source": [
        "train_data,test_data=train_test_split(df,train_size=0.8,random_state=3)\n",
        "# After class, you can try to change the number of 'train_size=0.8,random_state=3' and find out what happens.😊\n",
        "# This line of code is using the train_test_split function to split 'df' into two subsets: a training set and a testing set.\n",
        "# The 'train_size' parameter is set to 0.8, which means that 80% of the data will be used for training the machine learning model, and 20% of the data will be used for testing the model.\n",
        "# The 'random_state' parameter is set to 3, which ensures that the split will be the same every time the code is run, allowing for reproducibility of the results.\n",
        "\n",
        "reg=linear_model.LinearRegression()\n",
        "# The LinearRegression class is a machine learning model that can be used for linear regression tasks, which involve predicting a continuous numerical value for a given input.\n",
        "# The model works by fitting a linear equation to the training data, where the coefficients of the equation represent the weights of the input features.\n",
        "\n",
        "x_train=np.array(train_data['sqft_living']).reshape(-1,1)\n",
        "y_train=np.array(train_data['price']).reshape(-1,1)\n",
        "# Try to use other labels and find out what happens.😊\n",
        "# The np.array() function is used to convert the 'sqft_living' column to a NumPy array.\n",
        "# The reshape() method is then used to reshape the NumPy array into a 2-dimensional array with a single column and as many rows as there are data points in the 'sqft_living' column.\n",
        "# The '-1' parameter in the reshape() method is used to automatically determine the number of rows based on the size of the 'sqft_living' column.\n",
        "# Reshaping the NumPy array in this way is necessary because many machine learning models  expect the input data to be in a specific format.\n",
        "\n",
        "reg.fit(x_train,y_train)\n",
        "# The fit() method will use the training data to learn the coefficients of the regression model that best fits the data.\n",
        "# Once the model is fitted, it can be used to make predictions on new data.\n",
        "\n",
        "x_test=np.array(test_data['sqft_living']).reshape(-1,1)\n",
        "y_test=np.array(test_data['price']).reshape(-1,1)\n",
        "# Remember, if you change the label of training_data, please change the test_data into the same label.😊\n",
        "# The .reshape(-1,1) method is used to reshape the array into a 2-dimensional array with only one column.\n",
        "# The -1 parameter in the method specifies that the number of rows should be inferred based on the length of the input array.\n",
        "# The resulting x_test array will have dimensions (n,1), where n is the number of rows in the 'sqft_living' column of test_data.\n",
        "\n",
        "pred=reg.predict(x_test)\n",
        "# This line uses a trained regression model reg to make predictions on a new set of data x_test.\n",
        "# The predicted values are based on the coefficients learned by the model during the training phase, and the input features in x_test.\n",
        "\n",
        "print('linear model')\n",
        "mean_squared_error=metrics.mean_squared_error(y_test,pred)\n",
        "# The mean_squared_error() function  takes two parameters: the true values y_test and the predicted values pred.\n",
        "# The function returns a single value, which is the average of the squared differences between the true and predicted values.\n",
        "\n",
        "print('Sqaured mean error', round(np.sqrt(mean_squared_error),2))\n",
        "# The np.sqrt() function calculates the square root of a given value.\n",
        "# The round() function is used to round the RMSE to two decimal places.\n",
        "\n",
        "print('R squared training',round(reg.score(x_train,y_train),3))\n",
        "print('R sqaured testing',round(reg.score(x_test,y_test),3) )\n",
        "# The score() method is used to calculate the R-squared value of the model.The R-squared value represents the proportion of the variance in the target variable that is explained by the independent variables in the model.\n",
        "# The R-squared value can range from 0 to 1, with higher values indicating better performance.\n",
        "# A value of 1 indicates that the model perfectly fits the data, while a value of 0 indicates that the model does not explain any of the variance in the target variable.\n",
        "\n",
        "print('intercept',reg.intercept_)\n",
        "# The intercept term is the value of the dependent variable when all independent variables are equal to zero.\n",
        "# In the context of linear regression, it represents the point where the regression line intersects the y-axis.\n",
        "\n",
        "print('coefficient',reg.coef_)\n",
        "# In the context of linear regression, the coefficients represent the change in the dependent variable for a unit change in the corresponding independent variable."
      ]
    },
    {
      "cell_type": "code",
      "execution_count": null,
      "metadata": {
        "id": "F_N8KBCuylUr"
      },
      "outputs": [],
      "source": [
        "_, ax = plt.subplots(figsize= (12, 10))\n",
        "plt.scatter(x_test, y_test, color= 'darkgreen', label = 'data') # Try to change the color to pink or yellow.😊\n",
        "# Create a scatter plot\n",
        "plt.plot(x_test, reg.predict(x_test), color='red', label= ' Predicted Regression line') # Try to change the color to pink or yellow.😊\n",
        "# Draw the predicted regression line\n",
        "# Try to use other labels and find out what happens.😊\n",
        "plt.xlabel('Living Space (sqft)')\n",
        "plt.ylabel('price')\n",
        "plt.legend()\n",
        "plt.gca().spines['right'].set_visible(False)\n",
        "# Set the visibility of the right spine (or edge) of the plot to False."
      ]
    },
    {
      "cell_type": "markdown",
      "metadata": {
        "id": "1vpjw6SMvBuu"
      },
      "source": [
        "<font size = \"6\">Question 3 (1 point): please draw a Simple Linear Regression plot of 'house prices by sqft_above'</font>"
      ]
    },
    {
      "cell_type": "markdown",
      "metadata": {
        "id": "oq57s5DXylUs"
      },
      "source": [
        "# Multiple Regression"
      ]
    },
    {
      "cell_type": "markdown",
      "source": [
        "Multiple regression is a statistical technique used to understand the relationship between one dependent variable and two or more independent variables. It extends simple linear regression, which involves only one independent variable.\n",
        "\n",
        "<font size = 5> Key Features of Multiple Regression:</font>\n",
        "\n",
        "**Dependent Variable:**\n",
        "\n",
        "This is the outcome or the variable you want to predict (e.g., house price).\n",
        "\n",
        "**Independent Variables:**\n",
        "\n",
        "These are the predictors or factors that influence the dependent variable (e.g., square footage, number of bedrooms, location).\n",
        "\n",
        "The multiple regression equation can be expressed as:\n",
        "\n",
        "[ Y = b_0 + b_1X_1 + b_2X_2 + ... + b_nX_n + \\epsilon ]\n",
        "\n",
        "Where:\n",
        "\n",
        "(Y) is the dependent variable.\n",
        "\n",
        "(b_0) is the y-intercept.\n",
        "\n",
        "(b_1, b_2, ..., b_n) are the coefficients for the independent variables (X_1, X_2, ..., X_n).\n",
        "\n",
        "(\\epsilon) is the error term.\n",
        "\n",
        "**Assumptions:**\n",
        "\n",
        "Linearity: The relationship between the dependent and independent variables is linear.\n",
        "\n",
        "Independence: Observations are independent of each other.\n",
        "\n",
        "Homoscedasticity: Constant variance of the error terms.\n",
        "\n",
        "Normality: The residuals (errors) are normally distributed.\n",
        "\n",
        "**Evaluation Metrics:**\n",
        "\n",
        "Common metrics to evaluate the model include R-squared, Adjusted R-squared, Mean Absolute Error (MAE), and Mean Squared Error (MSE)."
      ],
      "metadata": {
        "id": "68aB87Gswo8K"
      }
    },
    {
      "cell_type": "markdown",
      "source": [
        "<font size = 4.5>The following code uses Matplotlib and Seaborn libraries to draw box-and-line plots to visualize the relationship between different factors (e.g., house class, number of bedrooms, number of bathrooms) and price. The details are explained below:</font>"
      ],
      "metadata": {
        "id": "9G3GU-VezK8i"
      }
    },
    {
      "cell_type": "markdown",
      "source": [
        "<font size = 5>Components of a Box Plot:</font>\n",
        "\n",
        "**Box:**\n",
        "\n",
        "The central part of the box plot that represents the interquartile range (IQR), which contains the middle 50% of the data.\n",
        "\n",
        "The bottom of the box represents the first quartile (Q1, 25th percentile), and the top of the box represents the third quartile (Q3, 75th percentile).\n",
        "\n",
        "**Median Line:**\n",
        "\n",
        "A line inside the box that indicates the median (Q2, 50th percentile) of the dataset. It divides the box into two parts, showing where the middle of the data lies.\n",
        "\n",
        "**Whiskers:**\n",
        "\n",
        "Lines that extend from the top and bottom of the box to the highest and lowest values within 1.5 times the IQR from the quartiles.\n",
        "They help visualize the range of the data outside the IQR.\n",
        "\n",
        "**Outliers:**\n",
        "\n",
        "Data points that fall outside the whiskers (beyond 1.5 times the IQR). These are typically plotted as individual points or dots. Outliers indicate values that are significantly higher or lower than the rest of the data.\n",
        "\n",
        "**Axes:**\n",
        "\n",
        "The x-axis (horizontal) typically represents the categorical variable (e.g., groups or categories), while the y-axis (vertical) represents the numerical variable (e.g., values or measurements).\n",
        "\n",
        "**Interpretation:**\n",
        "\n",
        "**Box Height:** The height of the box shows the variability of the data. A taller box indicates greater variability, while a shorter box indicates less variability.\n",
        "\n",
        "**Median Position:** The position of the median line within the box indicates the skewness of the data. If the median is closer to the bottom, the data is positively skewed; if closer to the top, it is negatively skewed.\n",
        "\n",
        "**Outliers:** The presence of outliers can indicate variability in the data or potential anomalies that may require further investigation."
      ],
      "metadata": {
        "id": "DQ8fR9Y02WGu"
      }
    },
    {
      "cell_type": "code",
      "execution_count": null,
      "metadata": {
        "id": "-ZVISK0gylUs"
      },
      "outputs": [],
      "source": [
        "fig,ax=plt.subplots(2,1,figsize=(15,10))\n",
        "sns.boxplot(x=train_data['grade'],y=train_data['price'],ax=ax[0])\n",
        "sns.boxplot(x=train_data['bedrooms'],y=train_data['price'],ax=ax[1])\n",
        "_ , axes = plt.subplots(1, 1, figsize=(15,10))\n",
        "sns.boxplot(x=train_data['bathrooms'],y=train_data['price'])\n",
        "# Create a box plot using Seaborn library.\n",
        "# A box plot is a type of plot that displays the distribution of a dataset through their quartiles.\n",
        "# The box represents the interquartile range (IQR), which is the range between the 25th and 75th percentiles of the data.\n",
        "# The line inside the box represents the median value, and the whiskers extending from the box represent the range of the data, excluding the outliers.\n",
        "# Outliers are plotted as individual points beyond the whiskers.\n",
        "# The ax parameter specifies the subplot where the box plot will be plotted."
      ]
    },
    {
      "cell_type": "markdown",
      "source": [
        "complex_model 1"
      ],
      "metadata": {
        "id": "pFG45MdWCuiO"
      }
    },
    {
      "cell_type": "code",
      "execution_count": null,
      "metadata": {
        "id": "phqnguotylUt"
      },
      "outputs": [],
      "source": [
        "features1=['bedrooms','grade','sqft_living','sqft_above'] # Features Selection\n",
        "reg=linear_model.LinearRegression() # Creating a linear regression model\n",
        "reg.fit(train_data[features1],train_data['price']) # Different from reg.fit(x_train,y_train), we use the train_data[features1].\n",
        "# A linear regression model is fitted using the features features1 and the target variable price from the training data.\n",
        "# Here train_data[features1] is the features data part.\n",
        "pred=reg.predict(test_data[features1])\n",
        "# Price predictions were made using the fitted model for the test data, which also used features1 as a feature.\n",
        "print('complex_model 1')\n",
        "mean_squared_error=metrics.mean_squared_error(y_test,pred)\n",
        "# Calculate the Root Mean Square Error (RMSE) between the predicted and actual test set prices.\n",
        "print('mean squared error(MSE)', round(np.sqrt(mean_squared_error),2))\n",
        "print('R squared training',round(reg.score(train_data[features1],train_data['price']),3))\n",
        "print('R squared training', round(reg.score(test_data[features1],test_data['price']),3))\n",
        "print('Intercept: ', reg.intercept_)\n",
        "print('Coefficient:', reg.coef_)\n",
        "# Print the intercept of the linear regression model and the coefficients of each feature;\n",
        "# these parameters indicate how the model predicts prices based on the input features."
      ]
    },
    {
      "cell_type": "markdown",
      "source": [
        "complex_model 2"
      ],
      "metadata": {
        "id": "KDLU_E7fCvnE"
      }
    },
    {
      "cell_type": "code",
      "execution_count": null,
      "metadata": {
        "id": "IhPigm7lylUt"
      },
      "outputs": [],
      "source": [
        "features1 = ['bedrooms','bathrooms','sqft_living','sqft_lot','floors','waterfront','view','grade','sqft_above','sqft_basement','lat','sqft_living15']\n",
        "reg= linear_model.LinearRegression()\n",
        "reg.fit(train_data[features1],train_data['price'])\n",
        "pred = reg.predict(test_data[features1])\n",
        "print('Complex Model_2')\n",
        "mean_squared_error = metrics.mean_squared_error(y_test, pred)\n",
        "print('Mean Squared Error (MSE) ', round(np.sqrt(mean_squared_error), 2))\n",
        "print('R-squared (training) ', round(reg.score(train_data[features1], train_data['price']), 3))\n",
        "print('R-squared (testing) ', round(reg.score(test_data[features1], test_data['price']), 3))\n",
        "print('Intercept: ', reg.intercept_)\n",
        "print('Coefficient:', reg.coef_)"
      ]
    },
    {
      "cell_type": "markdown",
      "metadata": {
        "id": "psK3XkSGylUt"
      },
      "source": [
        "# Polynomial Regression"
      ]
    },
    {
      "cell_type": "markdown",
      "source": [
        "Polynomial regression is a type of regression analysis used to model the relationship between a dependent variable and one or more independent variables by fitting a polynomial equation to the data.\n",
        "\n",
        "**Polynomial Form:** Instead of fitting a straight line (as in linear regression), polynomial regression fits a curve.\n",
        "\n",
        "The equation takes the form: [ y = a + b_1x + b_2x^2 + b_3x^3 + \\ldots + b_nx^n ]\n",
        "\n",
        "where (y) is the dependent variable, (x) is the independent variable, and (a) and (b) are coefficients.\n",
        "\n",
        "**Higher-Degree Polynomials:** By increasing the degree of the polynomial (e.g., quadratic, cubic), the model can capture more complex relationships in the data.\n",
        "\n",
        "**Use Cases:** It's useful when the relationship between the variables is not linear, such as in cases of curvature or when the data shows increasing or decreasing trends.\n",
        "\n",
        "**Overfitting Risk:** Higher-degree polynomials can lead to overfitting, where the model fits the noise in the data instead of the underlying trend.\n",
        "\n",
        "**Implementation:** In Python, polynomial regression can be implemented using libraries like numpy for creating polynomial features and scikit-learn for fitting the model.\n",
        "\n",
        "**Model Evaluation:** Just like with linear regression, Polynomial Regression models can be evaluated using metrics such as Mean Squared Error and R-squared values to assess their performance and predictive power."
      ],
      "metadata": {
        "id": "rRrc_Nz6TeNF"
      }
    },
    {
      "cell_type": "markdown",
      "source": [
        "Let’s consider a case of Simple Linear Regression.\n",
        "\n",
        "We made our model and found out that it performs very poorly.\n",
        "We observe between the actual value and the best-fit line, which we predicted, and it seems that the actual value has some kind of curve in the graph, and our line is nowhere near cutting the mean of the points.\n",
        "This is where polynomial Regression comes into play. It predicts the best-fit line that follows the pattern(curve) of the data, as shown in the pic below:\n",
        "\n",
        "![圖片1.png](data:image/png;base64,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)\n",
        "\n",
        "![圖片2.jpg](data:image/jpeg;base64,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)"
      ],
      "metadata": {
        "id": "TNPro4VgXZ5m"
      }
    },
    {
      "cell_type": "markdown",
      "source": [
        "complex_model 3"
      ],
      "metadata": {
        "id": "hGnCJm4bCxBZ"
      }
    },
    {
      "cell_type": "code",
      "execution_count": null,
      "metadata": {
        "id": "vuTdkFeQylUu"
      },
      "outputs": [],
      "source": [
        "polyfeat=PolynomialFeatures(degree=2)\n",
        "# PolynomialFeatures is a class that is used to generate a new set of features by raising the original features to a given degree.\n",
        "# In this case, the degree is set to 2, which means that the original features will be raised to the second power.(x^2)\n",
        "\n",
        "xtrain_poly=polyfeat.fit_transform(train_data[features1])\n",
        "xtest_poly=polyfeat.fit_transform(test_data[features1])\n",
        "# The fit_transform() transforms the original features in the training data into a new set of polynomial features.\n",
        "# The fit_transform() method first fits the polyfeat object to the training data to learn the parameters of the transformation.\n",
        "# and then, the fit_transform() applies the transformation to the training data to generate the new set of polynomial features.\n",
        "# The training data train_data[features1] and test data test_data[features1] are transformed using polynomial feature converter to generate polynomial features.\n",
        "poly=linear_model.LinearRegression()\n",
        "poly.fit(xtrain_poly,train_data['price'])\n",
        "polypred=poly.predict(xtest_poly)\n",
        "\n",
        "print('Complex Model_3')\n",
        "mean_squared_error = metrics.mean_squared_error(test_data['price'], polypred)\n",
        "print('Mean Squared Error (MSE) ', round(np.sqrt(mean_squared_error), 2))\n",
        "print('R-squared (training) ', round(poly.score(xtrain_poly, train_data['price']), 3))\n",
        "print('R-squared (testing) ', round(poly.score(xtest_poly, test_data['price']), 3))"
      ]
    },
    {
      "cell_type": "markdown",
      "source": [
        "complex_model 4"
      ],
      "metadata": {
        "id": "1V4ObyF7CyPn"
      }
    },
    {
      "cell_type": "code",
      "execution_count": null,
      "metadata": {
        "id": "IQHqcJgyylUu"
      },
      "outputs": [],
      "source": [
        "polyfeat=PolynomialFeatures(degree=3)\n",
        "#  In this case, the degree is set to 3, which means that the original features will be raised to the third power.(x^3)\n",
        "\n",
        "xtrain_poly=polyfeat.fit_transform(train_data[features1])\n",
        "xtest_poly=polyfeat.fit_transform(test_data[features1])\n",
        "\n",
        "poly=linear_model.LinearRegression()\n",
        "poly.fit(xtrain_poly,train_data['price'])\n",
        "polypred=poly.predict(xtest_poly)\n",
        "\n",
        "print('complex model_4')\n",
        "mean_squared_error=metrics.mean_squared_error(test_data['price'],polypred)\n",
        "print('Mean Squared Error (MSE) ', round(np.sqrt(mean_squared_error), 2))\n",
        "print('R-squared (training) ', round(poly.score(xtrain_poly, train_data['price']), 3))\n",
        "print('R-squared (testing) ', round(poly.score(xtest_poly, test_data['price']), 3))"
      ]
    },
    {
      "cell_type": "markdown",
      "source": [
        "<font size = \"6\">Question 4 (1 point): what is the R-squared value on testing data in complex model 3?</font>\n",
        "\n",
        "<font size = \"6\">Question 5 (1 point): which model is the best among the above complex models? Why?</font>"
      ],
      "metadata": {
        "id": "iK6QzNDlBZM2"
      }
    }
  ],
  "metadata": {
    "colab": {
      "provenance": []
    },
    "kernelspec": {
      "display_name": "Python 3 (ipykernel)",
      "language": "python",
      "name": "python3"
    },
    "language_info": {
      "codemirror_mode": {
        "name": "ipython",
        "version": 3
      },
      "file_extension": ".py",
      "mimetype": "text/x-python",
      "name": "python",
      "nbconvert_exporter": "python",
      "pygments_lexer": "ipython3",
      "version": "3.9.12"
    }
  },
  "nbformat": 4,
  "nbformat_minor": 0
}