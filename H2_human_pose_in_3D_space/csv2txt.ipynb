{
  "nbformat": 4,
  "nbformat_minor": 0,
  "metadata": {
    "colab": {
      "provenance": [],
      "authorship_tag": "ABX9TyOBuTa5YTkfHLXEivEApxbK",
      "include_colab_link": true
    },
    "kernelspec": {
      "name": "python3",
      "display_name": "Python 3"
    },
    "language_info": {
      "name": "python"
    }
  },
  "cells": [
    {
      "cell_type": "markdown",
      "metadata": {
        "id": "view-in-github",
        "colab_type": "text"
      },
      "source": [
        "<a href=\"https://colab.research.google.com/github/Yokhong/CIVL4210/blob/main/H2_human_pose_in_3D_space/csv2txt.ipynb\" target=\"_parent\"><img src=\"https://colab.research.google.com/assets/colab-badge.svg\" alt=\"Open In Colab\"/></a>"
      ]
    },
    {
      "cell_type": "code",
      "source": [
        "import csv\n",
        "\n",
        "csv_pathway = 'testing.csv'\n",
        "txt_pathway = 'testing.txt'\n",
        "start_row = 1\n",
        "end_row = 17\n",
        "start_col = 2\n",
        "end_col = 4\n",
        "\n",
        "with open(csv_pathway, \"r\", newline=\"\") as csv_file:\n",
        "    csv_reader = csv.reader(csv_file)\n",
        "    data = []\n",
        "    for i, row in enumerate(csv_reader):\n",
        "        if i >= start_row and i <= end_row:\n",
        "            row_data = row[start_col:end_col+1]\n",
        "            data.append(row_data)\n",
        "\n",
        "    with open(txt_pathway, \"w\") as txt_file:\n",
        "            for row_data in data:\n",
        "                txt_file.write(\"\\t\".join(row_data) + \"\\n\")"
      ],
      "metadata": {
        "id": "OePx700cMFJE"
      },
      "execution_count": 40,
      "outputs": []
    },
    {
      "cell_type": "code",
      "source": [
        "### drafts ###\n",
        "\n",
        "#CSVfile = \"testing.csv\"\n",
        "#CSVdata = pd.read_csv(CSVfile)\n",
        "\n",
        "#with open('testing.csv', 'r') as CSVfile:\n",
        "#    CSVdata = csv.reader(CSVfile)\n",
        "#    with open('testing.txt', 'w') as TXTfile:\n",
        "#        for row in CSVdata:\n",
        "#            TXTfile.write(' '.join(row) + '\\n')\n",
        "\n",
        "#selected = CSVdata.iloc[1:17, [2, 3, 4]]\n",
        "#with open(selected, 'r') as selected_data:\n",
        "    #selected_read = csv.reader(selected_data)\n",
        "#with open('testing.txt', 'w') as TXTfile:\n",
        "        #for row in selected:\n",
        "            #TXTfile.write(' '.join(row) + '\\n')\n",
        "\n",
        "#selected = CSVfile.iloc[1:17, [2, 3, 4]]\n",
        "#print(selected)\n",
        "#with open('testing.txt', 'w') as TXTfile:\n",
        "#        for row in selected:\n",
        "#            TXTfile.write(' '.join(row) + '\\n')\n"
      ],
      "metadata": {
        "id": "0xLe1LRA-khX"
      },
      "execution_count": 36,
      "outputs": []
    }
  ]
}