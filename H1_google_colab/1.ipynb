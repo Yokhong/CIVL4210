{
  "cells": [
    {
      "cell_type": "markdown",
      "id": "cbc5fe8c",
      "metadata": {
        "id": "cbc5fe8c"
      },
      "source": [
        "# example\n"
      ]
    },
    {
      "cell_type": "code",
      "execution_count": 37,
      "id": "9f0e36f0",
      "metadata": {
        "id": "9f0e36f0"
      },
      "outputs": [],
      "source": [
        "import matplotlib.pyplot as plt\n",
        "# Matplotlib.pyplot is a collection of functions that provides a MATLAB-like plotting framework in Python.\n",
        "# In Python, the 'import' statement is used to bring in external modules or libraries into your current Python script.\n",
        "# In this line: To make it easier for us to use the library later, we shortened its name to \"as.\""
      ]
    },
    {
      "cell_type": "code",
      "execution_count": 38,
      "id": "bf004ac7",
      "metadata": {
        "id": "bf004ac7",
        "outputId": "3a8f599c-0f72-4dd9-83f8-6cc90e8afaf0",
        "colab": {
          "base_uri": "https://localhost:8080/"
        }
      },
      "outputs": [
        {
          "output_type": "stream",
          "name": "stdout",
          "text": [
            "[ 0  1  2  3  4  5  6  7  8  9 10 11 12 13 14 15 16 17 18 19]\n"
          ]
        }
      ],
      "source": [
        "import numpy as np\n",
        "# Same as the first lane.\n",
        "# Numpy is a powerful library for working with numerical data in Python, providing functionality for performing mathematical operations on arrays and matrices.\n",
        "data = np.arange(20)\n",
        "# numpy.arange() is a function in the NumPy library of Python that returns an array of evenly spaced values within a given range.\n",
        "print(data)\n",
        "# Print or output the data."
      ]
    },
    {
      "cell_type": "code",
      "execution_count": 39,
      "id": "b17c79c7",
      "metadata": {
        "id": "b17c79c7"
      },
      "outputs": [],
      "source": [
        "%matplotlib inline\n",
        "# '%matplotlib inline' is a command in Jupyter Notebook that allows for the inline display of matplotlib plots.\n",
        "# Matplotlib is a popular data visualization library in Python."
      ]
    },
    {
      "cell_type": "code",
      "execution_count": 40,
      "id": "229acac8",
      "metadata": {
        "id": "229acac8",
        "outputId": "0b66c578-ddd8-4da7-9466-c557bead33d1",
        "colab": {
          "base_uri": "https://localhost:8080/",
          "height": 447
        }
      },
      "outputs": [
        {
          "output_type": "execute_result",
          "data": {
            "text/plain": [
              "[<matplotlib.lines.Line2D at 0x7a74c1ae08b0>]"
            ]
          },
          "metadata": {},
          "execution_count": 40
        },
        {
          "output_type": "display_data",
          "data": {
            "text/plain": [
              "<Figure size 640x480 with 1 Axes>"
            ],
            "image/png": "[encoded data removed]"
          },
          "metadata": {}
        }
      ],
      "source": [
        "plt.plot (data**2)\n",
        "# pyplot.plot() is a function in the Matplotlib library of Python that is used to create a line plot.\n",
        "# In Python, we use AAA**n to represent AAA^n(nth power of AAA)."
      ]
    },
    {
      "cell_type": "code",
      "source": [
        "file=\"humanpose_data.txt\"\n",
        "# relative address (computing)\n",
        "\n",
        "nl=[]\n",
        "with open (file) as f :\n",
        "    for line in f:\n",
        "        nl.extend([float(i) for i in line.split()])\n",
        "        print(nl)"
      ],
      "metadata": {
        "id": "-5w1YMNbONBO",
        "colab": {
          "base_uri": "https://localhost:8080/"
        },
        "outputId": "39439d9e-1375-4b4d-807e-f4a9ec1626a4"
      },
      "id": "-5w1YMNbONBO",
      "execution_count": 41,
      "outputs": [
        {
          "output_type": "stream",
          "name": "stdout",
          "text": [
            "[1.2, 1.2622, 1.31214, 1.12714, 1.08315, 1.35968, 1.13569, 1.33013, 1.05112, 1.21635, 1.15264, 1.45452, 1.09412, 1.35265, 1.0675, 1.25544, 1.01167, 0.951523, 1.31394]\n",
            "[1.2, 1.2622, 1.31214, 1.12714, 1.08315, 1.35968, 1.13569, 1.33013, 1.05112, 1.21635, 1.15264, 1.45452, 1.09412, 1.35265, 1.0675, 1.25544, 1.01167, 0.951523, 1.31394, -0.565064, -0.550035, -0.495435, -0.612834, -0.324778, -0.460297, -0.615028, -0.514095, -0.602575, -0.410043, -0.453141, -0.450693, -0.746307, -0.543584, -0.664165, -0.328582, -0.53586, -0.614461, -0.420351]\n",
            "[1.2, 1.2622, 1.31214, 1.12714, 1.08315, 1.35968, 1.13569, 1.33013, 1.05112, 1.21635, 1.15264, 1.45452, 1.09412, 1.35265, 1.0675, 1.25544, 1.01167, 0.951523, 1.31394, -0.565064, -0.550035, -0.495435, -0.612834, -0.324778, -0.460297, -0.615028, -0.514095, -0.602575, -0.410043, -0.453141, -0.450693, -0.746307, -0.543584, -0.664165, -0.328582, -0.53586, -0.614461, -0.420351, 0.81514, 1.35549, 0.810555, 0.824702, 1.58366, 1.33596, 1.36724, 0.404219, 0.413127, 1.56018, 1.56505, 1.07123, 1.12532, -0.00409877, 0.0153292, 1.02795, 1.03707, -0.0496544, -0.0499604]\n"
          ]
        }
      ]
    },
    {
      "cell_type": "code",
      "source": [
        "file=\"/content/humanpose_data.txt\"\n",
        "# absolute address (computing)\n",
        "\n",
        "nl=[]\n",
        "# This initializes an empty list called nl that will be used to store the numerical values extracted from the file.\n",
        "with open (file) as f :\n",
        "# This opens the file specified by file in a context manager, which automatically closes the file when the code block is finished.\n",
        "    for line in f:\n",
        "# This loops through each line in the file.\n",
        "        nl.extend([float(i) for i in line.split()])\n",
        "# This extracts the numerical values from the current line by splitting it into a list of strings using the split() method, and then converting each string to a float using the float() function.\n",
        "# The resulting list of floats is then added to the nl list using the extend() method.\n",
        "        print(nl)\n",
        "# Print or output the nl."
      ],
      "metadata": {
        "outputId": "0249cf47-a1fb-4ef8-afde-1f81d53bde9c",
        "colab": {
          "base_uri": "https://localhost:8080/"
        },
        "id": "eAy4mxCgFute"
      },
      "execution_count": 42,
      "outputs": [
        {
          "output_type": "stream",
          "name": "stdout",
          "text": [
            "[1.2, 1.2622, 1.31214, 1.12714, 1.08315, 1.35968, 1.13569, 1.33013, 1.05112, 1.21635, 1.15264, 1.45452, 1.09412, 1.35265, 1.0675, 1.25544, 1.01167, 0.951523, 1.31394]\n",
            "[1.2, 1.2622, 1.31214, 1.12714, 1.08315, 1.35968, 1.13569, 1.33013, 1.05112, 1.21635, 1.15264, 1.45452, 1.09412, 1.35265, 1.0675, 1.25544, 1.01167, 0.951523, 1.31394, -0.565064, -0.550035, -0.495435, -0.612834, -0.324778, -0.460297, -0.615028, -0.514095, -0.602575, -0.410043, -0.453141, -0.450693, -0.746307, -0.543584, -0.664165, -0.328582, -0.53586, -0.614461, -0.420351]\n",
            "[1.2, 1.2622, 1.31214, 1.12714, 1.08315, 1.35968, 1.13569, 1.33013, 1.05112, 1.21635, 1.15264, 1.45452, 1.09412, 1.35265, 1.0675, 1.25544, 1.01167, 0.951523, 1.31394, -0.565064, -0.550035, -0.495435, -0.612834, -0.324778, -0.460297, -0.615028, -0.514095, -0.602575, -0.410043, -0.453141, -0.450693, -0.746307, -0.543584, -0.664165, -0.328582, -0.53586, -0.614461, -0.420351, 0.81514, 1.35549, 0.810555, 0.824702, 1.58366, 1.33596, 1.36724, 0.404219, 0.413127, 1.56018, 1.56505, 1.07123, 1.12532, -0.00409877, 0.0153292, 1.02795, 1.03707, -0.0496544, -0.0499604]\n"
          ]
        }
      ],
      "id": "eAy4mxCgFute"
    }
  ],
  "metadata": {
    "kernelspec": {
      "display_name": "Python 3 (ipykernel)",
      "language": "python",
      "name": "python3"
    },
    "language_info": {
      "codemirror_mode": {
        "name": "ipython",
        "version": 3
      },
      "file_extension": ".py",
      "mimetype": "text/x-python",
      "name": "python",
      "nbconvert_exporter": "python",
      "pygments_lexer": "ipython3",
      "version": "3.9.12"
    },
    "colab": {
      "provenance": []
    }
  },
  "nbformat": 4,
  "nbformat_minor": 5
}